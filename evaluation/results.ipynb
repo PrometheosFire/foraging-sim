{
 "cells": [
  {
   "cell_type": "markdown",
   "id": "60baf1d1",
   "metadata": {},
   "source": [
    "# Imports"
   ]
  },
  {
   "cell_type": "code",
   "execution_count": null,
   "id": "1b3d0ef5",
   "metadata": {},
   "outputs": [],
   "source": [
    "import pandas as pd\n",
    "import matplotlib.pyplot as plt\n",
    "import seaborn as sns\n",
    "import math\n",
    "import numpy as np"
   ]
  },
  {
   "cell_type": "markdown",
   "id": "12f0c98e",
   "metadata": {},
   "source": [
    "## 1.  Optimal foraging of individual agent"
   ]
  },
  {
   "cell_type": "code",
   "execution_count": null,
   "id": "034cf56a",
   "metadata": {},
   "outputs": [],
   "source": [
    "# Read constants from config file\n",
    "config_df = pd.read_csv(\"config.csv\")\n",
    "config = dict(zip(config_df[\"param\"], config_df[\"value\"]))\n",
    "\n",
    "# Parameters\n",
    "F = 1       # resource energy\n",
    "c_s = 160\n",
    "c_a = 4\n",
    "\n",
    "# Load agent-level data\n",
    "df = pd.read_csv(\"./simulation_results/_agents_20250604_004745.csv\", delimiter=\",\")\n",
    "df = df.apply(pd.to_numeric, errors=\"coerce\")\n",
    "\n",
    "# Loop over each unique resource density r\n",
    "for r_value in sorted(df[\"resource_cap\"].unique()):\n",
    "    # Filter agents from this environment\n",
    "    subset = df[df[\"resource_cap\"] == r_value]\n",
    "\n",
    "    # Find phenotypes with the highest net energy intake ε\n",
    "    max_net_energy = subset[\"energy\"].max()\n",
    "    best = subset[subset[\"energy\"] == max_net_energy]\n",
    "\n",
    "    # Plot KDE heatmap weighted by net energy intake\n",
    "    plt.figure(figsize=(7, 6))\n",
    "    sns.kdeplot(\n",
    "        data=subset,\n",
    "        x=\"speed\",\n",
    "        y=\"acuity\",\n",
    "        weights=subset[\"energy\"],\n",
    "        fill=True,\n",
    "        cmap=\"viridis\"\n",
    "    )\n",
    "\n",
    "    # Mark maximum ε point(s)\n",
    "    plt.scatter(\n",
    "        best[\"speed\"],\n",
    "        best[\"acuity\"],\n",
    "        color='red',\n",
    "        s=100,\n",
    "        edgecolor='black',\n",
    "        label=\"max ε\"\n",
    "    )\n",
    "\n",
    "    # Labels and formatting\n",
    "    plt.title(f\"Net Energy Intake ε(s,a) — Resource density r = {r_value}\")\n",
    "    plt.xlabel(\"Speed\")\n",
    "    plt.ylabel(\"Acuity\")\n",
    "    plt.xlim(0, 0.2)\n",
    "    plt.ylim(0, 0.2)\n",
    "    plt.legend()\n",
    "    plt.grid(True)\n",
    "    plt.tight_layout()\n",
    "    plt.show()"
   ]
  },
  {
   "cell_type": "code",
   "execution_count": null,
   "id": "231879ea",
   "metadata": {},
   "outputs": [],
   "source": [
    "df[\"C\"] = c_s * df[\"speed\"]**2 + c_a * df[\"acuity\"]\n",
    "df[\"mu\"] = (df[\"energy\"] + df[\"C\"]) / df[\"speed\"]\n",
    "# Compute mean path length between encounters\n",
    "df[\"L\"] = df[\"speed\"] / df[\"mu\"]\n",
    "\n",
    "# Compute L₀ (L at max acuity) for each resource density r\n",
    "L0_by_r = {}\n",
    "\n",
    "for r_value in sorted(df[resource_cap].unique()):\n",
    "    group = df[df[\"resource_cap\"] == r_value]\n",
    "    max_a = group[\"acuity\"].max()\n",
    "    L0 = group[group[\"acuity\"] == max_a][\"L\"].values[0]\n",
    "    L0_by_r[r_value] = L0\n",
    "\n",
    "# Plot 𝓛(a) vs. acuity for each resource density r\n",
    "plt.figure(figsize=(8, 6))\n",
    "sns.lineplot(data=df, x=\"acuity\", y=\"L\", hue=\"resource_cap\", palette=\"tab10\")\n",
    "\n",
    "# Add horizontal dashed lines at each L₀\n",
    "for r_value, L0 in L0_by_r.items():\n",
    "    plt.axhline(L0, linestyle=\"--\", color=\"gray\", linewidth=1)\n",
    "\n",
    "# Labels and formatting\n",
    "plt.xlabel(\"Acuity\")\n",
    "plt.ylabel(\"𝓛(a) = s / ν\")\n",
    "plt.xlim(0, 0.2)\n",
    "plt.ylim(0, 0.1)\n",
    "plt.title(\"Mean path length between encounters vs. Acuity (grouped by resource density r)\")\n",
    "plt.grid(True)\n",
    "plt.legend(title=\"Resource density (r)\")\n",
    "plt.tight_layout()\n",
    "plt.show()"
   ]
  },
  {
   "cell_type": "code",
   "execution_count": null,
   "id": "3ec9c345",
   "metadata": {},
   "outputs": [],
   "source": [
    "plt.figure(figsize=(8, 6))\n",
    "\n",
    "# Loop through each resource density r\n",
    "for r_value in sorted(df[\"resource_cap\"].unique()):\n",
    "    # Filter and sort by acuity\n",
    "    group = df[df[\"resource_cap\"] == r_value].sort_values(\"acuity\")\n",
    "\n",
    "    a = group[\"acuity\"].values\n",
    "    L = group[\"L\"].values\n",
    "    g = 1 / L\n",
    "    g2 = g**2\n",
    "    dg2_da = np.gradient(g2, a)\n",
    "\n",
    "    # Plot the curve for this r\n",
    "    plt.plot(a, dg2_da, label=f\"r = {r_value}\")\n",
    "\n",
    "# Add horizontal dashed line at y=0\n",
    "plt.axhline(0, color='gray', linestyle='--', linewidth=1, label=\"y = 0\")\n",
    "\n",
    "# Labels and layout\n",
    "plt.xlabel(\"Acuity\")\n",
    "plt.ylabel(\"d(g²)/da\")\n",
    "plt.xlim(0, 0.2)\n",
    "plt.ylim(-1, 4e4)\n",
    "plt.title(\"1st derivative of g² vs. Acuity (by resource density r)\")\n",
    "plt.grid(True)\n",
    "plt.legend(title=\"Resource density (r)\")\n",
    "plt.tight_layout()\n",
    "plt.show()\n"
   ]
  },
  {
   "cell_type": "markdown",
   "id": "34e46238",
   "metadata": {},
   "source": [
    "## 2. Steady-state of a population using single strategy"
   ]
  }
 ],
 "metadata": {
  "kernelspec": {
   "display_name": "Python 3",
   "language": "python",
   "name": "python3"
  },
  "language_info": {
   "codemirror_mode": {
    "name": "ipython",
    "version": 3
   },
   "file_extension": ".py",
   "mimetype": "text/x-python",
   "name": "python",
   "nbconvert_exporter": "python",
   "pygments_lexer": "ipython3",
   "version": "3.11.9"
  }
 },
 "nbformat": 4,
 "nbformat_minor": 5
}
