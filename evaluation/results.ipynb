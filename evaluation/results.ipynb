{
 "cells": [
  {
   "cell_type": "markdown",
   "id": "60baf1d1",
   "metadata": {},
   "source": [
    "# Imports"
   ]
  },
  {
   "cell_type": "code",
   "execution_count": null,
   "id": "1b3d0ef5",
   "metadata": {},
   "outputs": [],
   "source": [
    "import pandas as pd\n",
    "import matplotlib.pyplot as plt\n",
    "import seaborn as sns\n",
    "import math\n",
    "import numpy as np"
   ]
  },
  {
   "cell_type": "markdown",
   "id": "12f0c98e",
   "metadata": {},
   "source": [
    "## 1.  Optimal foraging of individual agent"
   ]
  },
  {
   "cell_type": "code",
   "execution_count": null,
   "id": "034cf56a",
   "metadata": {},
   "outputs": [],
   "source": [
    "# Read constants CSV\n",
    "config_df = pd.read_csv(\"config.csv\")\n",
    "\n",
    "# Converts to dictionary\n",
    "config = dict(zip(config_df[\"param\"], config_df[\"value\"]))\n",
    "\n",
    "F = float(config[\"F\"])                     # resource energy\n",
    "r = float(config[\"r\"])                     # number of resources\n",
    "generations = int(config[\"generations\"])   # number of iterations\n",
    "c_s = float(config[\"c_s\"])                 # speed constant\n",
    "c_a = float(config[\"c_a\"])                 # acuity constant\n",
    "\n",
    "# Read individual agents' data CSV\n",
    "single_agent_df = pd.read_csv(\"./simulation_results/_agents_20250604_004745.csv\", delimiter=\",\")\n",
    "\n",
    "single_agent_df[\"encounter_rate\"] = single_agent_df[\"resource_encouters\"] / generations\n",
    "single_agent_df[\"metabolic_cost\"] = c_s * single_agent_df[\"speed\"]**2 + c_a * single_agent_df[\"acuity\"]\n",
    "single_agent_df[\"net_energy_gain\"] = single_agent_df[\"encounter_rate\"] * F - single_agent_df[\"metabolic_cost\"] \n",
    "\n",
    "max_net_energy_gain = single_agent_df[\"net_energy_gain\"].max()\n",
    "maximizers = single_agent_df[single_agent_df[\"net_energy_gain\"] == max_net_energy_gain]\n",
    "\n",
    "# Plot heatmap\n",
    "sns.kdeplot(data=single_agent_df, x=\"speed\", y=\"acuity\",\n",
    "            weights=single_agent_df[\"net_energy_gain\"], fill=True, cmap=\"viridis\")\n",
    "\n",
    "# Add maximizers (phenotypes with highest ε)\n",
    "plt.scatter(maximizers[\"speed\"], maximizers[\"acuity\"], \n",
    "            color='red', s=100, edgecolor='black', label=\"max ε\")\n",
    "\n",
    "plt.title(\"Net Energy Intake ε(s,a)\")\n",
    "plt.xlabel(\"Speed\")\n",
    "plt.ylabel(\"Acuity\")\n",
    "plt.legend()\n",
    "plt.grid(True)\n",
    "plt.show()"
   ]
  },
  {
   "cell_type": "code",
   "execution_count": null,
   "id": "231879ea",
   "metadata": {},
   "outputs": [],
   "source": [
    "# Compute mean path length between encounters\n",
    "single_agent_df[\"L\"] = single_agent_df[\"speed\"] / single_agent_df[\"encounter_rate\"]\n",
    "\n",
    "# Plot 𝓛 vs. a\n",
    "sns.lineplot(data=single_agent_df, x=\"acuity\", y=\"L\")\n",
    "plt.xlabel(\"Acuity (a)\")\n",
    "plt.ylabel(\"𝓛(a) = s / ν\")\n",
    "plt.title(\"Mean path length between encounters vs. Acuity\")\n",
    "plt.grid(True)\n",
    "plt.show()"
   ]
  },
  {
   "cell_type": "code",
   "execution_count": null,
   "id": "3ec9c345",
   "metadata": {},
   "outputs": [],
   "source": [
    "a = single_agent_df[\"acuity\"].values    # Acuity rate values\n",
    "L = single_agent_df[\"L\"].values         # Mean path length between encounters values\n",
    "\n",
    "# Compute g and g^2\n",
    "g = 1 / L\n",
    "g2 = g**2\n",
    "\n",
    "# 1st derivative of g²\n",
    "dg2_da = np.gradient(g2, a)\n",
    "\n",
    "# Plot 1st derivative of g² vs a\n",
    "plt.plot(a, dg2_da, label=\"d(g²)/da\")\n",
    "plt.xlabel(\"Acuity (a)\")\n",
    "plt.ylabel(\"d(g²)/da\")\n",
    "plt.title(\"1st derivative of g² vs Acuity\")\n",
    "plt.grid(True)\n",
    "plt.legend()\n",
    "plt.show()"
   ]
  },
  {
   "cell_type": "markdown",
   "id": "34e46238",
   "metadata": {},
   "source": [
    "## 2. Steady-state of a population using single strategy"
   ]
  },
  {
   "cell_type": "code",
   "execution_count": null,
   "id": "4e2bef74",
   "metadata": {},
   "outputs": [],
   "source": []
  }
 ],
 "metadata": {
  "kernelspec": {
   "display_name": "AASMA",
   "language": "python",
   "name": "aasma"
  },
  "language_info": {
   "codemirror_mode": {
    "name": "ipython",
    "version": 3
   },
   "file_extension": ".py",
   "mimetype": "text/x-python",
   "name": "python",
   "nbconvert_exporter": "python",
   "pygments_lexer": "ipython3",
   "version": "3.11.9"
  }
 },
 "nbformat": 4,
 "nbformat_minor": 5
}
